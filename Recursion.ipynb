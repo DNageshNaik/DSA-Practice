{
 "cells": [
  {
   "cell_type": "markdown",
   "id": "de84b062",
   "metadata": {},
   "source": [
    "## Print name n times "
   ]
  },
  {
   "cell_type": "code",
   "execution_count": 4,
   "id": "8be062b3",
   "metadata": {},
   "outputs": [
    {
     "name": "stdout",
     "output_type": "stream",
     "text": [
      "Nagesh\n",
      "Nagesh\n",
      "Nagesh\n",
      "Nagesh\n",
      "Nagesh\n",
      "Nagesh\n"
     ]
    }
   ],
   "source": [
    "def PrintName(n):\n",
    "    if n<=0:\n",
    "        return\n",
    "    print(\"Nagesh\")\n",
    "    Fun(n-1)\n",
    "\n",
    "PrintName(6)"
   ]
  },
  {
   "cell_type": "markdown",
   "id": "99482ed1",
   "metadata": {},
   "source": [
    "## Sum of n natural numbers"
   ]
  },
  {
   "cell_type": "code",
   "execution_count": 14,
   "id": "e27a401a",
   "metadata": {},
   "outputs": [
    {
     "name": "stdout",
     "output_type": "stream",
     "text": [
      "15\n"
     ]
    },
    {
     "data": {
      "text/plain": [
       "15"
      ]
     },
     "execution_count": 14,
     "metadata": {},
     "output_type": "execute_result"
    }
   ],
   "source": [
    "# parametrized Recursion\n",
    "def Psum(i, Sum):\n",
    "    if i<1:\n",
    "        print(Sum)\n",
    "        return\n",
    "    Psum(i-1, Sum+i)\n",
    "    \n",
    "\n",
    "# functioinal Recursion\n",
    "def Fsum(n):\n",
    "    if n==0:\n",
    "        return 0\n",
    "    return n+Fsum(n-1)\n",
    "    \n",
    "Psum(5,0)\n",
    "Fsum(5)"
   ]
  },
  {
   "cell_type": "markdown",
   "id": "44bc7240",
   "metadata": {},
   "source": [
    "## Factorial of n"
   ]
  },
  {
   "cell_type": "code",
   "execution_count": 21,
   "id": "a244951f",
   "metadata": {},
   "outputs": [
    {
     "name": "stdout",
     "output_type": "stream",
     "text": [
      "720\n"
     ]
    },
    {
     "data": {
      "text/plain": [
       "720"
      ]
     },
     "execution_count": 21,
     "metadata": {},
     "output_type": "execute_result"
    }
   ],
   "source": [
    "# parametrized Recursion\n",
    "def Pfact(i, Fact):\n",
    "    if i<1:\n",
    "        print(Fact)\n",
    "        return\n",
    "    Pfact(i-1, Fact*i)\n",
    "\n",
    "# functioinal Recursion\n",
    "def Ffact(n):\n",
    "    if n==0:\n",
    "        return 1\n",
    "    return n*Ffact(n-1)\n",
    "\n",
    "Pfact(6, 1)\n",
    "Ffact(6)"
   ]
  },
  {
   "cell_type": "markdown",
   "id": "c9f4d1f7",
   "metadata": {},
   "source": [
    "## Reversing an array"
   ]
  },
  {
   "cell_type": "code",
   "execution_count": 28,
   "id": "309eb4cd",
   "metadata": {},
   "outputs": [
    {
     "name": "stdout",
     "output_type": "stream",
     "text": [
      "[1, 3, 5, 9, 4]\n",
      "[4, 9, 5, 3, 1]\n"
     ]
    }
   ],
   "source": [
    "# Two parameters approach \n",
    "def Reverse2(arr, start, end):\n",
    "    if start >= end:\n",
    "        return \n",
    "    arr[start], arr[end] = arr[end], arr[start]\n",
    "    Reverse2(arr, start+1, end-1)\n",
    "    \n",
    "# One parameter approach \n",
    "def Reverse1(arr,n,i):\n",
    "    if i >= n/2:\n",
    "        return \n",
    "    arr[i], arr[n-i-1] = arr[n-i-1], arr[i]\n",
    "    Reverse1(arr, n, i+1)\n",
    "    \n",
    "arr = [1,3,5,9,4]\n",
    "print(arr)\n",
    "N = len(arr)  \n",
    "\n",
    "# 2 parameters approach\n",
    "# Reverse2(arr, 0, N-1)\n",
    "\n",
    "# 1 parameter approch\n",
    "Reverse1(arr, N, 0)\n",
    "print(arr)"
   ]
  },
  {
   "cell_type": "markdown",
   "id": "8e24134a",
   "metadata": {},
   "source": [
    "## Check if a string is palindrome"
   ]
  },
  {
   "cell_type": "code",
   "execution_count": 47,
   "id": "0a90edf5",
   "metadata": {},
   "outputs": [
    {
     "name": "stdout",
     "output_type": "stream",
     "text": [
      "True\n"
     ]
    }
   ],
   "source": [
    "def CheckIfPalindrome(Str,i,n):\n",
    "    if i>=n/2:\n",
    "        return True\n",
    "    if Str[i] != Str[n-i-1]:\n",
    "        return False\n",
    "    return CheckIfPalindrome(Str,i+1,n)\n",
    "    \n",
    "InpStr = \"repaper\"\n",
    "N = len(InpStr)\n",
    "print(CheckIfPalindrome(InpStr, 0, N))"
   ]
  },
  {
   "cell_type": "markdown",
   "id": "0f0af569",
   "metadata": {},
   "source": [
    "## Find the nth fibonacci number"
   ]
  },
  {
   "cell_type": "code",
   "execution_count": 16,
   "id": "53490203",
   "metadata": {},
   "outputs": [
    {
     "data": {
      "text/plain": [
       "8"
      ]
     },
     "execution_count": 16,
     "metadata": {},
     "output_type": "execute_result"
    }
   ],
   "source": [
    "N = 6\n",
    "def FindFibinocci(n):\n",
    "    if n<2:\n",
    "        return n\n",
    "    return FindFibinocci(n-2)+FindFibinocci(n-1)\n",
    "\n",
    "FindFibinocci(N)"
   ]
  },
  {
   "cell_type": "markdown",
   "id": "88e02f04",
   "metadata": {},
   "source": [
    "## Print all subsequences of a given array"
   ]
  },
  {
   "cell_type": "code",
   "execution_count": 74,
   "id": "c8d35716",
   "metadata": {},
   "outputs": [
    {
     "name": "stdout",
     "output_type": "stream",
     "text": [
      "[3, 1, 2]\n",
      "[3, 1]\n",
      "[3, 2]\n",
      "[3]\n",
      "[1, 2]\n",
      "[1]\n",
      "[2]\n",
      "[]\n"
     ]
    }
   ],
   "source": [
    "arr = [3,1,2]\n",
    "N = len(arr)\n",
    "idx = 0\n",
    "A = []\n",
    "\n",
    "def PrintSubSeq(arr, n, idx, A):\n",
    "    if idx >= n:\n",
    "        print(A)\n",
    "        return\n",
    "    A.append(arr[idx])\n",
    "    PrintSubSeq(arr, n, idx+1, A)\n",
    "    A.remove(arr[idx])\n",
    "    PrintSubSeq(arr, n, idx+1, A)\n",
    "\n",
    "PrintSubSeq(arr, N, idx, A)"
   ]
  },
  {
   "cell_type": "markdown",
   "id": "11168f8f",
   "metadata": {},
   "source": [
    "## Print all the subsequences whose sum is k"
   ]
  },
  {
   "cell_type": "code",
   "execution_count": 79,
   "id": "84afc535",
   "metadata": {},
   "outputs": [
    {
     "name": "stdout",
     "output_type": "stream",
     "text": [
      "[1, 1]\n",
      "[2]\n"
     ]
    }
   ],
   "source": [
    "arr = [1,2,1]\n",
    "n = len(arr)\n",
    "i = 0\n",
    "A = []\n",
    "Sum = 2\n",
    "s = 0\n",
    "\n",
    "def PrintSubSeqSum(arr, n, i, A, Sum, s):\n",
    "    if i == n:\n",
    "        if s == Sum:\n",
    "            print(A)\n",
    "        return\n",
    "    \n",
    "    A.append(arr[i])\n",
    "    s += arr[i]\n",
    "    PrintSubSeqSum(arr, n, i+1, A, Sum, s)\n",
    "    \n",
    "    A.remove(arr[i])\n",
    "    s -= arr[i]\n",
    "    PrintSubSeqSum(arr, n, i+1, A, Sum, s)\n",
    "\n",
    "PrintSubSeqSum(arr, n, i, A, Sum, s)"
   ]
  },
  {
   "cell_type": "markdown",
   "id": "1a143a02",
   "metadata": {},
   "source": [
    "## Print any subsequence whose sum is k"
   ]
  },
  {
   "cell_type": "code",
   "execution_count": 81,
   "id": "37136bd9",
   "metadata": {},
   "outputs": [
    {
     "name": "stdout",
     "output_type": "stream",
     "text": [
      "[1, 1]\n"
     ]
    },
    {
     "data": {
      "text/plain": [
       "True"
      ]
     },
     "execution_count": 81,
     "metadata": {},
     "output_type": "execute_result"
    }
   ],
   "source": [
    "arr = [1,2,1]\n",
    "n = len(arr)\n",
    "i = 0\n",
    "A = []\n",
    "Sum = 2\n",
    "s = 0\n",
    "\n",
    "def PrintSubSeqSum(arr, n, i, A, Sum, s):\n",
    "    if i == n:\n",
    "        # if condition satisfied\n",
    "        if s == Sum:\n",
    "            print(A)\n",
    "            return True\n",
    "        # if condition not satisfied\n",
    "        else: \n",
    "            return False\n",
    "    \n",
    "    A.append(arr[i])\n",
    "    s += arr[i]\n",
    "    if PrintSubSeqSum(arr, n, i+1, A, Sum, s) == True:\n",
    "        return True\n",
    "    \n",
    "    A.remove(arr[i])\n",
    "    s -= arr[i]\n",
    "    if PrintSubSeqSum(arr, n, i+1, A, Sum, s) == True:\n",
    "        return True\n",
    "    \n",
    "    return False\n",
    "\n",
    "PrintSubSeqSum(arr, n, i, A, Sum, s)"
   ]
  },
  {
   "cell_type": "code",
   "execution_count": null,
   "id": "d2501108",
   "metadata": {},
   "outputs": [],
   "source": []
  }
 ],
 "metadata": {
  "kernelspec": {
   "display_name": "Python 3",
   "language": "python",
   "name": "python3"
  },
  "language_info": {
   "codemirror_mode": {
    "name": "ipython",
    "version": 3
   },
   "file_extension": ".py",
   "mimetype": "text/x-python",
   "name": "python",
   "nbconvert_exporter": "python",
   "pygments_lexer": "ipython3",
   "version": "3.6.9"
  }
 },
 "nbformat": 4,
 "nbformat_minor": 5
}
